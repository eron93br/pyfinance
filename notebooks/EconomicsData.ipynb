{
  "nbformat": 4,
  "nbformat_minor": 0,
  "metadata": {
    "colab": {
      "name": "EconomicsData.ipynb",
      "provenance": [],
      "collapsed_sections": []
    },
    "kernelspec": {
      "name": "python3",
      "display_name": "Python 3"
    },
    "language_info": {
      "name": "python"
    }
  },
  "cells": [
    {
      "cell_type": "code",
      "metadata": {
        "id": "AgN-sl4bNZnY"
      },
      "source": [
        "!pip3 install fredapi"
      ],
      "execution_count": null,
      "outputs": []
    },
    {
      "cell_type": "code",
      "metadata": {
        "id": "159vywZGN3jF"
      },
      "source": [
        "# importar as bibliotecas necessárias\n",
        "import pandas as pd\n",
        "from datetime import datetime, date, timedelta\n",
        "import matplotlib.pyplot as plt\n",
        "import numpy as np"
      ],
      "execution_count": 15,
      "outputs": []
    },
    {
      "cell_type": "markdown",
      "metadata": {
        "id": "1pYkgc5EVXAt"
      },
      "source": [
        "## **Fred**  "
      ]
    },
    {
      "cell_type": "markdown",
      "metadata": {
        "id": "aRKWkHp0JVpP"
      },
      "source": [
        "##### O Federal Reserve Economic Data é um banco de dados mantido pela divisão de Pesquisa do Federal Reserve Bank de St. Louis que possui mais de 765.000 séries temporais econômicas de 96 fontes. Ótima referência para análises de dados econômicos. "
      ]
    },
    {
      "cell_type": "code",
      "metadata": {
        "id": "ZUxk6UDfN3sd"
      },
      "source": [
        "from fredapi import Fred\n",
        "fred = Fred(api_key='INSIRA_SUA_CHAVE_AQUI')\n",
        "data = fred.get_series('NAEXKP01BRQ652S')"
      ],
      "execution_count": null,
      "outputs": []
    },
    {
      "cell_type": "code",
      "metadata": {
        "colab": {
          "base_uri": "https://localhost:8080/",
          "height": 348
        },
        "id": "C27GHejBN3vU",
        "outputId": "12a8d499-4375-492a-b3e7-b8b1b04a5985"
      },
      "source": [
        "data.plot(grid=True, figsize=(12, 5))"
      ],
      "execution_count": null,
      "outputs": [
        {
          "output_type": "execute_result",
          "data": {
            "text/plain": [
              "<matplotlib.axes._subplots.AxesSubplot at 0x7f1ec87b2610>"
            ]
          },
          "metadata": {
            "tags": []
          },
          "execution_count": 11
        },
        {
          "output_type": "display_data",
          "data": {
            "image/png": "[encoded data removed]",
            "text/plain": [
              "<Figure size 864x360 with 1 Axes>"
            ]
          },
          "metadata": {
            "tags": [],
            "needs_background": "light"
          }
        }
      ]
    },
    {
      "cell_type": "markdown",
      "metadata": {
        "id": "4Jk5B5-wUhMX"
      },
      "source": [
        "###### Uma simples busca por dados relacionados ao Brasil podem ser realizadas no [site da API](https://fred.stlouisfed.org/searchresults/?st=gdp%20brazil) e sincronizadas através do seu respectivo código"
      ]
    },
    {
      "cell_type": "markdown",
      "metadata": {
        "id": "sU06B5RuR1u3"
      },
      "source": [
        "Algumas informações importantes podem ser indicadas a partir dos seus códigos da API. \n",
        "\n",
        "1.  **DEXBZUS** - Cotação Dólar (USD) / Real Brasileiro (BRL) \n",
        "2.  **AEXKP01BRQ652S** - PIB Brasileiro em moeda nacional (BRL)\n",
        "3. \n",
        "\n"
      ]
    },
    {
      "cell_type": "markdown",
      "metadata": {
        "id": "ZE3Z4jOeVcYa"
      },
      "source": [
        "## **Quandln**"
      ]
    },
    {
      "cell_type": "markdown",
      "metadata": {
        "id": "07fIXcWrW1yR"
      },
      "source": [
        "#### É uma das principais fontes de conjuntos de dados financeiros, econômicos e alternativos, atendendo a profissionais de investimento. A plataforma Quandl da Nasdaq é usada por analistas dos principais fundos de hedge, gestores de ativos e bancos de investimento do mundo."
      ]
    },
    {
      "cell_type": "code",
      "metadata": {
        "id": "8MCVtirtVoFS"
      },
      "source": [
        "!pip3 install quandl"
      ],
      "execution_count": null,
      "outputs": []
    },
    {
      "cell_type": "code",
      "metadata": {
        "id": "Ka2VkpqVN3yY"
      },
      "source": [
        "import quandl\n",
        "quandl.ApiConfig.api_key = \"INSIRA_SUA_CHAVE_AQUI\""
      ],
      "execution_count": 12,
      "outputs": []
    },
    {
      "cell_type": "markdown",
      "metadata": {
        "id": "k3tS9u56W-x2"
      },
      "source": [
        "### Importando os dados da taxa de juros (SELIC) brasileira"
      ]
    },
    {
      "cell_type": "code",
      "metadata": {
        "id": "_1KypYqJVgXa",
        "colab": {
          "base_uri": "https://localhost:8080/",
          "height": 514
        },
        "outputId": "5b8e6a18-5373-4890-dca8-25790691a65e"
      },
      "source": [
        "quandl.get('BCB/432', start_date=\"2009-01-31\").plot(figsize=(12,8))"
      ],
      "execution_count": 18,
      "outputs": [
        {
          "output_type": "execute_result",
          "data": {
            "text/plain": [
              "<matplotlib.axes._subplots.AxesSubplot at 0x7f41f1cc4b50>"
            ]
          },
          "metadata": {
            "tags": []
          },
          "execution_count": 18
        },
        {
          "output_type": "display_data",
          "data": {
            "image/png": "[encoded data removed]",
            "text/plain": [
              "<Figure size 864x576 with 1 Axes>"
            ]
          },
          "metadata": {
            "tags": [],
            "needs_background": "light"
          }
        }
      ]
    },
    {
      "cell_type": "markdown",
      "metadata": {
        "id": "H8Syw5oKXKGt"
      },
      "source": [
        "#### Os dados podem ser obtidos atráves deste [link](https://www.quandl.com/data/BCB/432-Interest-rate-Selic-target), com o código **BCB/432**. O site também possui dados interessantes como preços dos títulos do Tesouro Direto. "
      ]
    },
    {
      "cell_type": "markdown",
      "metadata": {
        "id": "72XQ8bfL2Jsf"
      },
      "source": [
        "## **Trading Economics**"
      ]
    },
    {
      "cell_type": "markdown",
      "metadata": {
        "id": "zbNZnqlvERBV"
      },
      "source": [
        "##### Infelizmente a exportação dos dados do [Trading Economics](https://tradingeconomics.com/) a partir de sua API só é possível com uma conta paga. Assim, a alternativa para visualização é a partir da importação de imagens via HTML. Caso você realmente queira ter o plano do site, mais comandos e informações podem ser acessados no [GitHub](https://github.com/tradingeconomics/tradingeconomics) do site. "
      ]
    },
    {
      "cell_type": "code",
      "metadata": {
        "id": "GEmcKp8f2Mwz"
      },
      "source": [
        "from IPython.display import display, HTML, IFrame"
      ],
      "execution_count": 1,
      "outputs": []
    },
    {
      "cell_type": "markdown",
      "metadata": {
        "id": "K48uj5LuEuSp"
      },
      "source": [
        "#### No exemplo abaixo, ilustro a visualização das importações brasileiras para China ao longo da última década. A informação está disponível [aqui](https://tradingeconomics.com/brazil/exports/china). "
      ]
    },
    {
      "cell_type": "code",
      "metadata": {
        "id": "Fj08w4YnCwNU"
      },
      "source": [
        "url_html = \"<iframe src='https://tradingeconomics.com/embed/?s=brachn00002%3acomtrade&v=202104300000v20200908&h=300&w=600&ref=/brazil/exports/china' height='300' width='600'  frameborder='0' scrolling='no'></iframe><br />source: <a href='https://tradingeconomics.com/brazil/exports/china'>tradingeconomics.com</a>\""
      ],
      "execution_count": 5,
      "outputs": []
    },
    {
      "cell_type": "markdown",
      "metadata": {
        "id": "rb6Lec-_E9Bg"
      },
      "source": [
        "### **Brazil exports to China**"
      ]
    },
    {
      "cell_type": "code",
      "metadata": {
        "colab": {
          "base_uri": "https://localhost:8080/",
          "height": 338
        },
        "id": "0wTQVzNh2NiR",
        "outputId": "d43be08c-c508-4c15-bfc9-97c411555b43"
      },
      "source": [
        "display(HTML(url_html))"
      ],
      "execution_count": 7,
      "outputs": [
        {
          "output_type": "display_data",
          "data": {
            "text/html": [
              "<iframe src='https://tradingeconomics.com/embed/?s=brachn00002%3acomtrade&v=202104300000v20200908&h=300&w=600&ref=/brazil/exports/china' height='300' width='600'  frameborder='0' scrolling='no'></iframe><br />source: <a href='https://tradingeconomics.com/brazil/exports/china'>tradingeconomics.com</a>"
            ],
            "text/plain": [
              "<IPython.core.display.HTML object>"
            ]
          },
          "metadata": {
            "tags": []
          }
        }
      ]
    },
    {
      "cell_type": "code",
      "metadata": {
        "id": "fEEIVjMo2Nrk"
      },
      "source": [
        ""
      ],
      "execution_count": null,
      "outputs": []
    },
    {
      "cell_type": "markdown",
      "metadata": {
        "id": "MdBb_ZIJj8G4"
      },
      "source": [
        "## **Binance**"
      ]
    },
    {
      "cell_type": "code",
      "metadata": {
        "id": "guM50pVbj-9x"
      },
      "source": [
        "!pip3 install python-binance"
      ],
      "execution_count": null,
      "outputs": []
    },
    {
      "cell_type": "code",
      "metadata": {
        "id": "KGp7zZxgj_RC"
      },
      "source": [
        "# https://algotrading101.com/learn/binance-python-api-guide/"
      ],
      "execution_count": null,
      "outputs": []
    },
    {
      "cell_type": "code",
      "metadata": {
        "id": "OmiLFvtmj_ay"
      },
      "source": [
        "# https://python-binance.readthedocs.io/en/latest/"
      ],
      "execution_count": null,
      "outputs": []
    },
    {
      "cell_type": "code",
      "metadata": {
        "id": "EABBxE1gj_p-"
      },
      "source": [
        ""
      ],
      "execution_count": null,
      "outputs": []
    },
    {
      "cell_type": "markdown",
      "metadata": {
        "id": "gJ4MK96cP8V9"
      },
      "source": [
        "## Referências"
      ]
    },
    {
      "cell_type": "markdown",
      "metadata": {
        "id": "2xnPmWQoP94j"
      },
      "source": [
        "\n",
        "\n",
        "1.   [FRED API](https://pypi.org/project/fredapi/)\n",
        "2.   [Quandl Step by Step](https://algotrading101.com/learn/quandl-guide/)\n",
        "3.\n",
        "4. \n"
      ]
    }
  ]
}