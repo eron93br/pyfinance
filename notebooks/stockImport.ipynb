{
  "nbformat": 4,
  "nbformat_minor": 0,
  "metadata": {
    "colab": {
      "name": "stockImport.ipynb",
      "provenance": []
    },
    "kernelspec": {
      "name": "python3",
      "display_name": "Python 3"
    },
    "language_info": {
      "name": "python"
    }
  },
  "cells": [
    {
      "cell_type": "code",
      "metadata": {
        "id": "ya51mqX1wxXS"
      },
      "source": [
        "!pip3 install yfinance"
      ],
      "execution_count": null,
      "outputs": []
    },
    {
      "cell_type": "code",
      "metadata": {
        "id": "t39B01DC7gdT"
      },
      "source": [
        "# importar as bibliotecas necessárias\n",
        "import pandas as pd\n",
        "from datetime import datetime, date, timedelta\n",
        "import matplotlib.pyplot as plt\n",
        "import yfinance as yf"
      ],
      "execution_count": 12,
      "outputs": []
    },
    {
      "cell_type": "code",
      "metadata": {
        "id": "5ousgErhu2AG"
      },
      "source": [
        "def stockData(stock_name, start_date, end_date=date.today(), country='US'):\n",
        "    \"\"\"\n",
        "        This function return a dataframe with the price of the stock\n",
        "        since the start_date until the end_date.\n",
        "    \"\"\"\n",
        "    stock = stock_name\n",
        "    if(country == 'BR'):\n",
        "        stock = stock_name + '.SA'\n",
        "    df = pd.DataFrame()\n",
        "    # import data to data frame\n",
        "    df = yf.download(stock, start=start_date, end=end_date)\n",
        "    return df "
      ],
      "execution_count": 13,
      "outputs": []
    },
    {
      "cell_type": "markdown",
      "metadata": {
        "id": "fAaUq_nnw8dZ"
      },
      "source": [
        "### Importando uma ação Brasileira\n",
        "\n",
        "\n",
        "\n"
      ]
    },
    {
      "cell_type": "markdown",
      "metadata": {
        "id": "sVb9CTmzybiZ"
      },
      "source": [
        "Criei uma função chamada stockData em que retorna um dataFrame com os dados da stock deseja, note que por se tratar da API do Yahoo FInance temos que adicionar \".SA\" ao final de cada ticker brasileiro. Assim, para as stocks americanas, vc pode colocar automaticamente o ticker desejado. "
      ]
    },
    {
      "cell_type": "code",
      "metadata": {
        "colab": {
          "base_uri": "https://localhost:8080/"
        },
        "id": "uUfYpUAuwnZy",
        "outputId": "282d1ed2-bb62-443f-bbb4-ca672cc5de88"
      },
      "source": [
        "df = stockData(\"ITUB4\", start_date='2020-01-03', end_date='2021-03-31', country='BR')\n",
        "print(df.head())"
      ],
      "execution_count": 14,
      "outputs": [
        {
          "output_type": "stream",
          "text": [
            "\r[*********************100%***********************]  1 of 1 completed\n",
            "                 Open       High        Low      Close  Adj Close      Volume\n",
            "Date                                                                         \n",
            "2020-01-02        NaN        NaN        NaN        NaN        NaN         NaN\n",
            "2020-01-03  37.500000  38.240002  37.450001  37.630001  36.285545  24891400.0\n",
            "2020-01-06  37.549999  37.580002  36.910000  37.070000  35.745567  22294700.0\n",
            "2020-01-07  37.070000  37.240002  36.209999  36.209999  34.916294  20000900.0\n",
            "2020-01-08  36.450001  36.810001  35.619999  35.619999  34.347374  25980900.0\n"
          ],
          "name": "stdout"
        }
      ]
    },
    {
      "cell_type": "code",
      "metadata": {
        "colab": {
          "base_uri": "https://localhost:8080/",
          "height": 279
        },
        "id": "RWc1PfszxNQy",
        "outputId": "b3ec82cc-c73a-4111-eec4-512163e8e7de"
      },
      "source": [
        "figure = plt.plot(df[\"Close\"])\n",
        "plt.xlabel('Mes/Ano')\n",
        "plt.ylabel('Preco da Acao (R$) - Fechamento')\n",
        "plt.show()"
      ],
      "execution_count": 15,
      "outputs": [
        {
          "output_type": "display_data",
          "data": {
            "image/png": "[encoded data removed]",
            "text/plain": [
              "<Figure size 432x288 with 1 Axes>"
            ]
          },
          "metadata": {
            "tags": [],
            "needs_background": "light"
          }
        }
      ]
    },
    {
      "cell_type": "markdown",
      "metadata": {
        "id": "bT8YBkeXysB9"
      },
      "source": [
        "### Importando ação da bolsa americana"
      ]
    },
    {
      "cell_type": "code",
      "metadata": {
        "colab": {
          "base_uri": "https://localhost:8080/"
        },
        "id": "gqYJk1U5xNa_",
        "outputId": "5a6f3881-afc0-4788-fa04-ad8468ae9b4e"
      },
      "source": [
        "df2 = stockData(\"TER\", start_date='2020-01-03', end_date='2021-04-01')"
      ],
      "execution_count": 16,
      "outputs": [
        {
          "output_type": "stream",
          "text": [
            "\r[*********************100%***********************]  1 of 1 completed\n"
          ],
          "name": "stdout"
        }
      ]
    },
    {
      "cell_type": "code",
      "metadata": {
        "colab": {
          "base_uri": "https://localhost:8080/",
          "height": 279
        },
        "id": "MmQpMtghxNjU",
        "outputId": "555d6523-b206-4449-8e39-0a84ee4eff69"
      },
      "source": [
        "figure = plt.plot(df2[\"Close\"])\n",
        "plt.xlabel('Mes/Ano')\n",
        "plt.ylabel('Preco da Stock (US$) - Fechamento')\n",
        "plt.show()"
      ],
      "execution_count": 17,
      "outputs": [
        {
          "output_type": "display_data",
          "data": {
            "image/png": "[encoded data removed]",
            "text/plain": [
              "<Figure size 432x288 with 1 Axes>"
            ]
          },
          "metadata": {
            "tags": [],
            "needs_background": "light"
          }
        }
      ]
    },
    {
      "cell_type": "markdown",
      "metadata": {
        "id": "jszD90qXyQEk"
      },
      "source": [
        "### Calculando a correlação entre ativos"
      ]
    },
    {
      "cell_type": "code",
      "metadata": {
        "id": "zPNaYVWYxNpw"
      },
      "source": [
        "def stockCorrelation(stock_list, start_date, end_date, country='US'):\n",
        "    \"\"\"\n",
        "        This function returns the correlation index between stock1 and stock2 \n",
        "        during the time interval START_DATE to END_DATE\n",
        "    \"\"\"\n",
        "    stock_collection = {}\n",
        "    df = pd.DataFrame()\n",
        "    for stock in stock_list:\n",
        "        data = stockData(stock, start_date, end_date, country=country)\n",
        "        stock_collection[stock] = data['Close']\n",
        "    df = pd.DataFrame(stock_collection,columns=stock_list)\n",
        "    print(df)\n",
        "    corrMatrix = df.corr()\n",
        "    mask = np.triu(np.ones_like(corrMatrix, dtype=np.bool))\n",
        "    sn.heatmap(corrMatrix, mask=mask, annot=True)\n",
        "    plt.title('Correlacao entre os ativos')\n",
        "    plt.show()\n",
        "    # RETURN CORRELATION MATRIX, PLOT DIAGONAL MATRIX\n",
        "    return corrMatrix "
      ],
      "execution_count": 27,
      "outputs": []
    },
    {
      "cell_type": "code",
      "metadata": {
        "id": "6rAWdROCz638"
      },
      "source": [
        "bancoes = ['BBAS3', 'ITUB4', 'BBDC3', 'SANB11', 'BPAC11']"
      ],
      "execution_count": 29,
      "outputs": []
    },
    {
      "cell_type": "markdown",
      "metadata": {
        "id": "qwo3Ljvez6Lq"
      },
      "source": [
        "#### Correlação entre \"bancões\" brasileiros"
      ]
    },
    {
      "cell_type": "code",
      "metadata": {
        "colab": {
          "base_uri": "https://localhost:8080/",
          "height": 825
        },
        "id": "lOjEY-tVz6-z",
        "outputId": "32a0afae-56a2-49d5-f0f1-b8daf82b5b8b"
      },
      "source": [
        "stockCorrelation(bancoes,'2020-01-03', '2021-04-01', country='BR')"
      ],
      "execution_count": 30,
      "outputs": [
        {
          "output_type": "stream",
          "text": [
            "[*********************100%***********************]  1 of 1 completed\n",
            "[*********************100%***********************]  1 of 1 completed\n",
            "[*********************100%***********************]  1 of 1 completed\n",
            "[*********************100%***********************]  1 of 1 completed\n",
            "[*********************100%***********************]  1 of 1 completed\n",
            "                BBAS3      ITUB4      BBDC3     SANB11     BPAC11\n",
            "Date                                                             \n",
            "2020-01-02        NaN        NaN        NaN        NaN        NaN\n",
            "2020-01-03  53.709999  37.630001  31.700001  51.009998  76.029999\n",
            "2020-01-06  53.000000  37.070000  31.518181  47.509998  75.919998\n",
            "2020-01-07  52.599998  36.209999  30.981817  47.410000  75.599998\n",
            "2020-01-08  52.119999  35.619999  30.509090  47.040001  74.930000\n",
            "...               ...        ...        ...        ...        ...\n",
            "2021-03-25  29.559999  27.650000  23.070000  39.639999  92.779999\n",
            "2021-03-26  29.660000  28.070000  23.260000  40.939999  91.760002\n",
            "2021-03-29  29.799999  28.059999  23.430000  39.740002  91.690002\n",
            "2021-03-30  30.719999  28.520000  23.980000  40.270000  97.419998\n",
            "2021-03-31  30.450001  27.969999  23.510000  39.599998  97.050003\n",
            "\n",
            "[308 rows x 5 columns]\n"
          ],
          "name": "stdout"
        },
        {
          "output_type": "display_data",
          "data": {
            "image/png": "[encoded data removed]",
            "text/plain": [
              "<Figure size 432x288 with 2 Axes>"
            ]
          },
          "metadata": {
            "tags": [],
            "needs_background": "light"
          }
        },
        {
          "output_type": "execute_result",
          "data": {
            "text/html": [
              "<div>\n",
              "<style scoped>\n",
              "    .dataframe tbody tr th:only-of-type {\n",
              "        vertical-align: middle;\n",
              "    }\n",
              "\n",
              "    .dataframe tbody tr th {\n",
              "        vertical-align: top;\n",
              "    }\n",
              "\n",
              "    .dataframe thead th {\n",
              "        text-align: right;\n",
              "    }\n",
              "</style>\n",
              "<table border=\"1\" class=\"dataframe\">\n",
              "  <thead>\n",
              "    <tr style=\"text-align: right;\">\n",
              "      <th></th>\n",
              "      <th>BBAS3</th>\n",
              "      <th>ITUB4</th>\n",
              "      <th>BBDC3</th>\n",
              "      <th>SANB11</th>\n",
              "      <th>BPAC11</th>\n",
              "    </tr>\n",
              "  </thead>\n",
              "  <tbody>\n",
              "    <tr>\n",
              "      <th>BBAS3</th>\n",
              "      <td>1.000000</td>\n",
              "      <td>0.894137</td>\n",
              "      <td>0.922351</td>\n",
              "      <td>0.684141</td>\n",
              "      <td>0.250796</td>\n",
              "    </tr>\n",
              "    <tr>\n",
              "      <th>ITUB4</th>\n",
              "      <td>0.894137</td>\n",
              "      <td>1.000000</td>\n",
              "      <td>0.961614</td>\n",
              "      <td>0.897339</td>\n",
              "      <td>0.464402</td>\n",
              "    </tr>\n",
              "    <tr>\n",
              "      <th>BBDC3</th>\n",
              "      <td>0.922351</td>\n",
              "      <td>0.961614</td>\n",
              "      <td>1.000000</td>\n",
              "      <td>0.871337</td>\n",
              "      <td>0.452982</td>\n",
              "    </tr>\n",
              "    <tr>\n",
              "      <th>SANB11</th>\n",
              "      <td>0.684141</td>\n",
              "      <td>0.897339</td>\n",
              "      <td>0.871337</td>\n",
              "      <td>1.000000</td>\n",
              "      <td>0.615812</td>\n",
              "    </tr>\n",
              "    <tr>\n",
              "      <th>BPAC11</th>\n",
              "      <td>0.250796</td>\n",
              "      <td>0.464402</td>\n",
              "      <td>0.452982</td>\n",
              "      <td>0.615812</td>\n",
              "      <td>1.000000</td>\n",
              "    </tr>\n",
              "  </tbody>\n",
              "</table>\n",
              "</div>"
            ],
            "text/plain": [
              "           BBAS3     ITUB4     BBDC3    SANB11    BPAC11\n",
              "BBAS3   1.000000  0.894137  0.922351  0.684141  0.250796\n",
              "ITUB4   0.894137  1.000000  0.961614  0.897339  0.464402\n",
              "BBDC3   0.922351  0.961614  1.000000  0.871337  0.452982\n",
              "SANB11  0.684141  0.897339  0.871337  1.000000  0.615812\n",
              "BPAC11  0.250796  0.464402  0.452982  0.615812  1.000000"
            ]
          },
          "metadata": {
            "tags": []
          },
          "execution_count": 30
        }
      ]
    },
    {
      "cell_type": "markdown",
      "metadata": {
        "id": "daUIUqqcz6XB"
      },
      "source": [
        "#### Correlação entre big techs americanas"
      ]
    },
    {
      "cell_type": "code",
      "metadata": {
        "id": "8ik_DfOJ0CSr"
      },
      "source": [
        "bigtechs = ['FB', 'AAPL', 'MSFT', 'GOOGL']"
      ],
      "execution_count": 31,
      "outputs": []
    },
    {
      "cell_type": "code",
      "metadata": {
        "colab": {
          "base_uri": "https://localhost:8080/",
          "height": 777
        },
        "id": "D372vMFp0CaU",
        "outputId": "6ac56853-16f5-4092-bbff-bd24a00f0d7c"
      },
      "source": [
        "stockCorrelation(bigtechs,'2020-01-03', '2021-04-01', country='US')"
      ],
      "execution_count": 32,
      "outputs": [
        {
          "output_type": "stream",
          "text": [
            "[*********************100%***********************]  1 of 1 completed\n",
            "[*********************100%***********************]  1 of 1 completed\n",
            "[*********************100%***********************]  1 of 1 completed\n",
            "[*********************100%***********************]  1 of 1 completed\n",
            "                    FB        AAPL        MSFT        GOOGL\n",
            "Date                                                       \n",
            "2020-01-03  208.669998   74.357498  158.619995  1361.520020\n",
            "2020-01-06  212.600006   74.949997  159.029999  1397.810059\n",
            "2020-01-07  213.059998   74.597504  157.580002  1395.109985\n",
            "2020-01-08  215.220001   75.797501  160.089996  1405.040039\n",
            "2020-01-09  218.300003   77.407501  162.089996  1419.790039\n",
            "...                ...         ...         ...          ...\n",
            "2021-03-25  278.739990  120.589996  232.339996  2032.459961\n",
            "2021-03-26  283.019989  121.209999  236.479996  2024.729980\n",
            "2021-03-29  290.820007  121.389999  235.240005  2045.790039\n",
            "2021-03-30  288.000000  119.900002  231.850006  2046.469971\n",
            "2021-03-31  294.529999  122.150002  235.770004  2062.520020\n",
            "\n",
            "[313 rows x 4 columns]\n"
          ],
          "name": "stdout"
        },
        {
          "output_type": "display_data",
          "data": {
            "image/png": "[encoded data removed]",
            "text/plain": [
              "<Figure size 432x288 with 2 Axes>"
            ]
          },
          "metadata": {
            "tags": [],
            "needs_background": "light"
          }
        },
        {
          "output_type": "execute_result",
          "data": {
            "text/html": [
              "<div>\n",
              "<style scoped>\n",
              "    .dataframe tbody tr th:only-of-type {\n",
              "        vertical-align: middle;\n",
              "    }\n",
              "\n",
              "    .dataframe tbody tr th {\n",
              "        vertical-align: top;\n",
              "    }\n",
              "\n",
              "    .dataframe thead th {\n",
              "        text-align: right;\n",
              "    }\n",
              "</style>\n",
              "<table border=\"1\" class=\"dataframe\">\n",
              "  <thead>\n",
              "    <tr style=\"text-align: right;\">\n",
              "      <th></th>\n",
              "      <th>FB</th>\n",
              "      <th>AAPL</th>\n",
              "      <th>MSFT</th>\n",
              "      <th>GOOGL</th>\n",
              "    </tr>\n",
              "  </thead>\n",
              "  <tbody>\n",
              "    <tr>\n",
              "      <th>FB</th>\n",
              "      <td>1.000000</td>\n",
              "      <td>0.921747</td>\n",
              "      <td>0.901742</td>\n",
              "      <td>0.798591</td>\n",
              "    </tr>\n",
              "    <tr>\n",
              "      <th>AAPL</th>\n",
              "      <td>0.921747</td>\n",
              "      <td>1.000000</td>\n",
              "      <td>0.936265</td>\n",
              "      <td>0.847275</td>\n",
              "    </tr>\n",
              "    <tr>\n",
              "      <th>MSFT</th>\n",
              "      <td>0.901742</td>\n",
              "      <td>0.936265</td>\n",
              "      <td>1.000000</td>\n",
              "      <td>0.886417</td>\n",
              "    </tr>\n",
              "    <tr>\n",
              "      <th>GOOGL</th>\n",
              "      <td>0.798591</td>\n",
              "      <td>0.847275</td>\n",
              "      <td>0.886417</td>\n",
              "      <td>1.000000</td>\n",
              "    </tr>\n",
              "  </tbody>\n",
              "</table>\n",
              "</div>"
            ],
            "text/plain": [
              "             FB      AAPL      MSFT     GOOGL\n",
              "FB     1.000000  0.921747  0.901742  0.798591\n",
              "AAPL   0.921747  1.000000  0.936265  0.847275\n",
              "MSFT   0.901742  0.936265  1.000000  0.886417\n",
              "GOOGL  0.798591  0.847275  0.886417  1.000000"
            ]
          },
          "metadata": {
            "tags": []
          },
          "execution_count": 32
        }
      ]
    }
  ]
}